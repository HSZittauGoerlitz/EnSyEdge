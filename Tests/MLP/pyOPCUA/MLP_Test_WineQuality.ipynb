{
 "cells": [
  {
   "cell_type": "code",
   "execution_count": 1,
   "metadata": {},
   "outputs": [
    {
     "data": {
      "text/html": [
       "        <script type=\"text/javascript\">\n",
       "        window.PlotlyConfig = {MathJaxConfig: 'local'};\n",
       "        if (window.MathJax) {MathJax.Hub.Config({SVG: {font: \"STIX-Web\"}});}\n",
       "        if (typeof require !== 'undefined') {\n",
       "        require.undef(\"plotly\");\n",
       "        requirejs.config({\n",
       "            paths: {\n",
       "                'plotly': ['https://cdn.plot.ly/plotly-latest.min']\n",
       "            }\n",
       "        });\n",
       "        require(['plotly'], function(Plotly) {\n",
       "            window._Plotly = Plotly;\n",
       "        });\n",
       "        }\n",
       "        </script>\n",
       "        "
      ]
     },
     "metadata": {},
     "output_type": "display_data"
    }
   ],
   "source": [
    "from opcua import Client, ua\n",
    "import logging\n",
    "from MyPlots.InteractivePlots import simplePlot\n",
    "import numpy as np\n",
    "import pickle\n",
    "from plotly.offline import init_notebook_mode, iplot\n",
    "import time\n",
    "init_notebook_mode(connected=True)\n"
   ]
  },
  {
   "cell_type": "code",
   "execution_count": 2,
   "metadata": {},
   "outputs": [
    {
     "data": {
      "text/plain": [
       "MLPRegressorWCallback(alpha=0.05, hidden_layer_sizes=(100, 50, 20, 50, 100),\n",
       "                      max_iter=5000, random_state=1)"
      ]
     },
     "execution_count": 2,
     "metadata": {},
     "output_type": "execute_result"
    }
   ],
   "source": [
    "# Import Orange3 Model\n",
    "with open(\"../WineTestMLP.pkcls\", 'rb') as f:\n",
    "    model = pickle.load(f)\n",
    "\n",
    "# get skl model\n",
    "sklModel = model.skl_model\n",
    "sklModel"
   ]
  },
  {
   "cell_type": "code",
   "execution_count": 3,
   "metadata": {},
   "outputs": [],
   "source": [
    "# configure client\n",
    "logging.basicConfig(level=logging.WARN)\n",
    "\n",
    "client = Client(url='opc.tcp://localhost:4840/')\n",
    "client.set_user(\"mag\")\n",
    "client.set_password(\"MAR\")\n",
    "client.set_security_string(\"Basic256Sha256,SignAndEncrypt,cert.der,key.pem\")\n",
    "client.application_uri = \"urn:WineTestComm:client\""
   ]
  },
  {
   "cell_type": "code",
   "execution_count": 4,
   "metadata": {},
   "outputs": [],
   "source": [
    "# common server browsing functions   \n",
    "def find_PrgNode(Node, prgName=\"PLC_PRG\"):\n",
    "    children = Node.get_children()\n",
    "    \n",
    "    # BFS Search\n",
    "    for child in children:\n",
    "        if child.get_display_name().Text == prgName:\n",
    "            return child\n",
    "        \n",
    "    # nothing found -> look at each child\n",
    "    for child in children:\n",
    "        search_result = find_PrgNode(child, prgName)\n",
    "        if search_result is not None:\n",
    "            return search_result\n",
    "        \n",
    "    return None\n",
    "\n",
    "def get_DeviceSetNode(client):\n",
    "    # get starting node\n",
    "    objects = client.get_objects_node()\n",
    "    \n",
    "    for node in objects.get_children():\n",
    "        if node.get_display_name().Text == \"DeviceSet\":\n",
    "            return node\n",
    "    \n",
    "    print(\"ERROR: DeviseSet Node not found\")\n",
    "    \n",
    "def get_MLPnode(prgNode):  \n",
    "    for child in prgNode.get_children():\n",
    "        if child.get_display_name().Text == \"WT_MLP\":\n",
    "            return child\n",
    "        \n",
    "def get_MLPinputs(MLPnode):\n",
    "    inputs = 11*[None]\n",
    "    \n",
    "    for child in MLPnode.get_children():\n",
    "        name = child.get_display_name().Text\n",
    "        if \"in\" in name:\n",
    "            inputs[int(name.split(\"_\")[1]) - 1] = child\n",
    "\n",
    "    return inputs    \n",
    "\n",
    "def get_MLPoutput(MLPnode):\n",
    "    for child in MLPnode.get_children():\n",
    "        name = child.get_display_name().Text\n",
    "        if \"out\" in name:\n",
    "            return child\n",
    "        "
   ]
  },
  {
   "cell_type": "code",
   "execution_count": 5,
   "metadata": {},
   "outputs": [],
   "source": [
    "# test function for MLP\n",
    "def testMLP(inNodes, outNode, o3Model, sklModel, nTestCases=100):\n",
    "    # MLP data was normalised to [0, 1] range\n",
    "    test_input = np.random.random((nTestCases, 11))\n",
    "    # get MLP data (compare orange3 and sklearn -> should be identical)\n",
    "    o3Pred = o3Model.predict(test_input)\n",
    "    sklPred = sklModel.predict(test_input)\n",
    "    \n",
    "    PLC_Pred = list(map(lambda input_: call_PLC_MLP(input_, inNodes, outNode), test_input))\n",
    "    \n",
    "    return simplePlot(x=[np.arange(nTestCases)], y=[o3Pred, sklPred, PLC_Pred],\n",
    "                      names=['orange3', 'sklearn', 'PLC'],\n",
    "                      xlabel='Test case', ylabel='MLP prediction',\n",
    "                      LineTypes=['solid', 'dash', 'solid'],\n",
    "                      mode=['lines', 'lines', 'markers']\n",
    "                      )\n",
    "\n",
    "def call_PLC_MLP(inputs, inNodes, outNode):\n",
    "    for idx in range(11):\n",
    "        inNodes[idx].set_value(inputs[idx], ua.VariantType.Float)\n",
    "        \n",
    "    # wait for calculation\n",
    "    time.sleep(0.05)\n",
    "    \n",
    "    return outNode.get_value()\n",
    "    "
   ]
  },
  {
   "cell_type": "code",
   "execution_count": 6,
   "metadata": {},
   "outputs": [
    {
     "data": {
      "application/vnd.plotly.v1+json": {
       "config": {
        "linkText": "Export to plot.ly",
        "plotlyServerURL": "https://plot.ly",
        "showLink": false
       },
       "data": [
        {
         "fill": "none",
         "line": {
          "color": "rgb(204, 0, 0)",
          "dash": "solid",
          "shape": "linear",
          "smoothing": 1,
          "width": 2
         },
         "mode": "lines",
         "name": "orange3",
         "opacity": 1,
         "type": "scatter",
         "uid": "uid_orange3",
         "x": [
          0,
          1,
          2,
          3,
          4,
          5,
          6,
          7,
          8,
          9,
          10,
          11,
          12,
          13,
          14,
          15,
          16,
          17,
          18,
          19,
          20,
          21,
          22,
          23,
          24,
          25,
          26,
          27,
          28,
          29,
          30,
          31,
          32,
          33,
          34,
          35,
          36,
          37,
          38,
          39,
          40,
          41,
          42,
          43,
          44,
          45,
          46,
          47,
          48,
          49,
          50,
          51,
          52,
          53,
          54,
          55,
          56,
          57,
          58,
          59,
          60,
          61,
          62,
          63,
          64,
          65,
          66,
          67,
          68,
          69,
          70,
          71,
          72,
          73,
          74,
          75,
          76,
          77,
          78,
          79,
          80,
          81,
          82,
          83,
          84,
          85,
          86,
          87,
          88,
          89,
          90,
          91,
          92,
          93,
          94,
          95,
          96,
          97,
          98,
          99
         ],
         "y": [
          5.882466374686706,
          6.349793257130449,
          5.8279077871628,
          6.2045431447996755,
          6.100096043340712,
          6.251245786619726,
          6.227004290589196,
          6.31672744342588,
          6.4689165971401374,
          6.194292039166478,
          6.559072677156432,
          5.527796195528241,
          5.936798319655914,
          6.624449592247735,
          5.781638433833163,
          6.466921616812745,
          6.066307328894843,
          6.151192626238276,
          6.115323058062377,
          6.203163957155165,
          6.177406254016394,
          6.3433438672564675,
          5.7482606312205276,
          5.785461911515459,
          6.602961218228528,
          6.283457577552682,
          6.2406202023908675,
          6.234108187527337,
          6.39841032452406,
          6.590377119677314,
          6.0218340689070855,
          6.340539829100511,
          5.773798533408102,
          6.273005391507171,
          6.067640936686,
          6.550901102944551,
          6.596118662599925,
          5.928797954423238,
          6.113782655068094,
          5.826006294155612,
          5.7096012945971575,
          5.978907627002704,
          5.724807885428206,
          6.225657061829463,
          6.113889342731633,
          6.071203656336836,
          6.434054973896941,
          6.043079084457432,
          6.107099951855153,
          6.181489213769443,
          5.786335755094787,
          6.611189674311409,
          6.5433732135924005,
          6.015583306532066,
          5.776849731384188,
          6.3192344142366865,
          6.182101964672031,
          6.563349465394977,
          6.180917686329786,
          6.393628308494484,
          5.765347701415462,
          5.869291420510259,
          5.928664348818097,
          6.302128302630472,
          6.179510977529132,
          5.9882193426596535,
          6.77563047077657,
          6.064648988747627,
          6.633541028941297,
          6.316655206011304,
          6.030915122018123,
          6.090269877032529,
          5.991532743692338,
          6.098690453979667,
          6.400865721041827,
          6.348831776656568,
          6.057657311273587,
          6.302349500687906,
          6.208935825568875,
          6.223893502012013,
          6.292854346155138,
          6.6407107347503525,
          6.073514855950833,
          6.448332276431057,
          5.872728223786274,
          6.275883381409456,
          6.1963978883474145,
          6.162567943037906,
          6.422691406877903,
          6.490010212635055,
          5.6993987456203685,
          6.1430677474402495,
          6.002460019554083,
          6.2785804459301255,
          6.291593404835351,
          5.570343392869499,
          5.864836691073379,
          5.983384527816132,
          6.5421832832471125,
          6.389974848505164
         ],
         "yaxis": "y"
        },
        {
         "fill": "none",
         "line": {
          "color": "rgb(0, 204, 22)",
          "dash": "dash",
          "shape": "linear",
          "smoothing": 1,
          "width": 2
         },
         "mode": "lines",
         "name": "sklearn",
         "opacity": 1,
         "type": "scatter",
         "uid": "uid_sklearn",
         "x": [
          0,
          1,
          2,
          3,
          4,
          5,
          6,
          7,
          8,
          9,
          10,
          11,
          12,
          13,
          14,
          15,
          16,
          17,
          18,
          19,
          20,
          21,
          22,
          23,
          24,
          25,
          26,
          27,
          28,
          29,
          30,
          31,
          32,
          33,
          34,
          35,
          36,
          37,
          38,
          39,
          40,
          41,
          42,
          43,
          44,
          45,
          46,
          47,
          48,
          49,
          50,
          51,
          52,
          53,
          54,
          55,
          56,
          57,
          58,
          59,
          60,
          61,
          62,
          63,
          64,
          65,
          66,
          67,
          68,
          69,
          70,
          71,
          72,
          73,
          74,
          75,
          76,
          77,
          78,
          79,
          80,
          81,
          82,
          83,
          84,
          85,
          86,
          87,
          88,
          89,
          90,
          91,
          92,
          93,
          94,
          95,
          96,
          97,
          98,
          99
         ],
         "y": [
          5.882466374686706,
          6.349793257130449,
          5.8279077871628,
          6.2045431447996755,
          6.100096043340712,
          6.251245786619726,
          6.227004290589196,
          6.31672744342588,
          6.4689165971401374,
          6.194292039166478,
          6.559072677156432,
          5.527796195528241,
          5.936798319655914,
          6.624449592247735,
          5.781638433833163,
          6.466921616812745,
          6.066307328894843,
          6.151192626238276,
          6.115323058062377,
          6.203163957155165,
          6.177406254016394,
          6.3433438672564675,
          5.7482606312205276,
          5.785461911515459,
          6.602961218228528,
          6.283457577552682,
          6.2406202023908675,
          6.234108187527337,
          6.39841032452406,
          6.590377119677314,
          6.0218340689070855,
          6.340539829100511,
          5.773798533408102,
          6.273005391507171,
          6.067640936686,
          6.550901102944551,
          6.596118662599925,
          5.928797954423238,
          6.113782655068094,
          5.826006294155612,
          5.7096012945971575,
          5.978907627002704,
          5.724807885428206,
          6.225657061829463,
          6.113889342731633,
          6.071203656336836,
          6.434054973896941,
          6.043079084457432,
          6.107099951855153,
          6.181489213769443,
          5.786335755094787,
          6.611189674311409,
          6.5433732135924005,
          6.015583306532066,
          5.776849731384188,
          6.3192344142366865,
          6.182101964672031,
          6.563349465394977,
          6.180917686329786,
          6.393628308494484,
          5.765347701415462,
          5.869291420510259,
          5.928664348818097,
          6.302128302630472,
          6.179510977529132,
          5.9882193426596535,
          6.77563047077657,
          6.064648988747627,
          6.633541028941297,
          6.316655206011304,
          6.030915122018123,
          6.090269877032529,
          5.991532743692338,
          6.098690453979667,
          6.400865721041827,
          6.348831776656568,
          6.057657311273587,
          6.302349500687906,
          6.208935825568875,
          6.223893502012013,
          6.292854346155138,
          6.6407107347503525,
          6.073514855950833,
          6.448332276431057,
          5.872728223786274,
          6.275883381409456,
          6.1963978883474145,
          6.162567943037906,
          6.422691406877903,
          6.490010212635055,
          5.6993987456203685,
          6.1430677474402495,
          6.002460019554083,
          6.2785804459301255,
          6.291593404835351,
          5.570343392869499,
          5.864836691073379,
          5.983384527816132,
          6.5421832832471125,
          6.389974848505164
         ],
         "yaxis": "y"
        },
        {
         "fill": "none",
         "line": {
          "color": "rgb(44, 0, 204)",
          "dash": "solid",
          "shape": "linear",
          "smoothing": 1,
          "width": 2
         },
         "mode": "markers",
         "name": "PLC",
         "opacity": 1,
         "type": "scatter",
         "uid": "uid_PLC",
         "x": [
          0,
          1,
          2,
          3,
          4,
          5,
          6,
          7,
          8,
          9,
          10,
          11,
          12,
          13,
          14,
          15,
          16,
          17,
          18,
          19,
          20,
          21,
          22,
          23,
          24,
          25,
          26,
          27,
          28,
          29,
          30,
          31,
          32,
          33,
          34,
          35,
          36,
          37,
          38,
          39,
          40,
          41,
          42,
          43,
          44,
          45,
          46,
          47,
          48,
          49,
          50,
          51,
          52,
          53,
          54,
          55,
          56,
          57,
          58,
          59,
          60,
          61,
          62,
          63,
          64,
          65,
          66,
          67,
          68,
          69,
          70,
          71,
          72,
          73,
          74,
          75,
          76,
          77,
          78,
          79,
          80,
          81,
          82,
          83,
          84,
          85,
          86,
          87,
          88,
          89,
          90,
          91,
          92,
          93,
          94,
          95,
          96,
          97,
          98,
          99
         ],
         "y": [
          5.882466793060303,
          6.349793434143066,
          5.827907562255859,
          6.204543113708496,
          6.100095748901367,
          6.251246452331543,
          6.22700309753418,
          6.316725254058838,
          6.468915939331055,
          6.1942925453186035,
          6.559073448181152,
          5.527797222137451,
          5.936798572540283,
          6.624450206756592,
          5.781637668609619,
          6.466921806335449,
          6.06630802154541,
          6.1511921882629395,
          6.115323066711426,
          6.2031636238098145,
          6.177407741546631,
          6.343344211578369,
          5.748259544372559,
          5.78546142578125,
          6.602960586547852,
          6.283457279205322,
          6.2406206130981445,
          6.234107971191406,
          6.398410797119141,
          6.5903778076171875,
          6.021833896636963,
          6.340539455413818,
          5.773797512054443,
          6.273005485534668,
          6.067641735076904,
          6.550899028778076,
          6.5961174964904785,
          5.928798198699951,
          6.1137824058532715,
          5.826005458831787,
          5.709601879119873,
          5.978906631469727,
          5.724808692932129,
          6.225656509399414,
          6.113889217376709,
          6.071202754974365,
          6.434053897857666,
          6.043079853057861,
          6.107098579406738,
          6.181488037109375,
          5.786334991455078,
          6.611188888549805,
          6.543374061584473,
          6.0155839920043945,
          5.776849269866943,
          6.3192338943481445,
          6.182101726531982,
          6.563350677490234,
          6.180918216705322,
          6.393628120422363,
          5.765347957611084,
          5.869293212890625,
          5.928665637969971,
          6.302127361297607,
          6.179511547088623,
          5.988218784332275,
          6.775630950927734,
          6.064650058746338,
          6.633540630340576,
          6.316654682159424,
          6.0309157371521,
          6.090270042419434,
          5.991531848907471,
          6.098690032958984,
          6.400865077972412,
          6.348833084106445,
          6.057656764984131,
          6.30234956741333,
          6.208935737609863,
          6.223894119262695,
          6.292855739593506,
          6.640710353851318,
          6.073514938354492,
          6.448333740234375,
          5.872729301452637,
          6.275882720947266,
          6.19639778137207,
          6.162567615509033,
          6.4226908683776855,
          6.490010738372803,
          5.699399471282959,
          6.143067836761475,
          6.00246000289917,
          6.278581619262695,
          6.291593551635742,
          5.570342063903809,
          5.864835739135742,
          5.983382701873779,
          6.5421833992004395,
          6.389974594116211
         ],
         "yaxis": "y"
        }
       ],
       "layout": {
        "autosize": true,
        "hidesources": false,
        "hovermode": "x",
        "legend": {
         "bgcolor": "rgb(255, 255, 255)",
         "bordercolor": "rgb(80, 80, 80)",
         "borderwidth": 1,
         "font": {
          "color": "rgb(0, 0, 0)",
          "family": "\"Open sans\", verdana, arial, sans-serif",
          "size": 12
         },
         "orientation": "v",
         "traceorder": "normal",
         "xanchor": "auto",
         "yanchor": "auto"
        },
        "showlegend": true,
        "template": {
         "data": {
          "bar": [
           {
            "error_x": {
             "color": "#2a3f5f"
            },
            "error_y": {
             "color": "#2a3f5f"
            },
            "marker": {
             "line": {
              "color": "#E5ECF6",
              "width": 0.5
             }
            },
            "type": "bar"
           }
          ],
          "barpolar": [
           {
            "marker": {
             "line": {
              "color": "#E5ECF6",
              "width": 0.5
             }
            },
            "type": "barpolar"
           }
          ],
          "carpet": [
           {
            "aaxis": {
             "endlinecolor": "#2a3f5f",
             "gridcolor": "white",
             "linecolor": "white",
             "minorgridcolor": "white",
             "startlinecolor": "#2a3f5f"
            },
            "baxis": {
             "endlinecolor": "#2a3f5f",
             "gridcolor": "white",
             "linecolor": "white",
             "minorgridcolor": "white",
             "startlinecolor": "#2a3f5f"
            },
            "type": "carpet"
           }
          ],
          "choropleth": [
           {
            "colorbar": {
             "outlinewidth": 0,
             "ticks": ""
            },
            "type": "choropleth"
           }
          ],
          "contour": [
           {
            "colorbar": {
             "outlinewidth": 0,
             "ticks": ""
            },
            "colorscale": [
             [
              0,
              "#0d0887"
             ],
             [
              0.1111111111111111,
              "#46039f"
             ],
             [
              0.2222222222222222,
              "#7201a8"
             ],
             [
              0.3333333333333333,
              "#9c179e"
             ],
             [
              0.4444444444444444,
              "#bd3786"
             ],
             [
              0.5555555555555556,
              "#d8576b"
             ],
             [
              0.6666666666666666,
              "#ed7953"
             ],
             [
              0.7777777777777778,
              "#fb9f3a"
             ],
             [
              0.8888888888888888,
              "#fdca26"
             ],
             [
              1,
              "#f0f921"
             ]
            ],
            "type": "contour"
           }
          ],
          "contourcarpet": [
           {
            "colorbar": {
             "outlinewidth": 0,
             "ticks": ""
            },
            "type": "contourcarpet"
           }
          ],
          "heatmap": [
           {
            "colorbar": {
             "outlinewidth": 0,
             "ticks": ""
            },
            "colorscale": [
             [
              0,
              "#0d0887"
             ],
             [
              0.1111111111111111,
              "#46039f"
             ],
             [
              0.2222222222222222,
              "#7201a8"
             ],
             [
              0.3333333333333333,
              "#9c179e"
             ],
             [
              0.4444444444444444,
              "#bd3786"
             ],
             [
              0.5555555555555556,
              "#d8576b"
             ],
             [
              0.6666666666666666,
              "#ed7953"
             ],
             [
              0.7777777777777778,
              "#fb9f3a"
             ],
             [
              0.8888888888888888,
              "#fdca26"
             ],
             [
              1,
              "#f0f921"
             ]
            ],
            "type": "heatmap"
           }
          ],
          "heatmapgl": [
           {
            "colorbar": {
             "outlinewidth": 0,
             "ticks": ""
            },
            "colorscale": [
             [
              0,
              "#0d0887"
             ],
             [
              0.1111111111111111,
              "#46039f"
             ],
             [
              0.2222222222222222,
              "#7201a8"
             ],
             [
              0.3333333333333333,
              "#9c179e"
             ],
             [
              0.4444444444444444,
              "#bd3786"
             ],
             [
              0.5555555555555556,
              "#d8576b"
             ],
             [
              0.6666666666666666,
              "#ed7953"
             ],
             [
              0.7777777777777778,
              "#fb9f3a"
             ],
             [
              0.8888888888888888,
              "#fdca26"
             ],
             [
              1,
              "#f0f921"
             ]
            ],
            "type": "heatmapgl"
           }
          ],
          "histogram": [
           {
            "marker": {
             "colorbar": {
              "outlinewidth": 0,
              "ticks": ""
             }
            },
            "type": "histogram"
           }
          ],
          "histogram2d": [
           {
            "colorbar": {
             "outlinewidth": 0,
             "ticks": ""
            },
            "colorscale": [
             [
              0,
              "#0d0887"
             ],
             [
              0.1111111111111111,
              "#46039f"
             ],
             [
              0.2222222222222222,
              "#7201a8"
             ],
             [
              0.3333333333333333,
              "#9c179e"
             ],
             [
              0.4444444444444444,
              "#bd3786"
             ],
             [
              0.5555555555555556,
              "#d8576b"
             ],
             [
              0.6666666666666666,
              "#ed7953"
             ],
             [
              0.7777777777777778,
              "#fb9f3a"
             ],
             [
              0.8888888888888888,
              "#fdca26"
             ],
             [
              1,
              "#f0f921"
             ]
            ],
            "type": "histogram2d"
           }
          ],
          "histogram2dcontour": [
           {
            "colorbar": {
             "outlinewidth": 0,
             "ticks": ""
            },
            "colorscale": [
             [
              0,
              "#0d0887"
             ],
             [
              0.1111111111111111,
              "#46039f"
             ],
             [
              0.2222222222222222,
              "#7201a8"
             ],
             [
              0.3333333333333333,
              "#9c179e"
             ],
             [
              0.4444444444444444,
              "#bd3786"
             ],
             [
              0.5555555555555556,
              "#d8576b"
             ],
             [
              0.6666666666666666,
              "#ed7953"
             ],
             [
              0.7777777777777778,
              "#fb9f3a"
             ],
             [
              0.8888888888888888,
              "#fdca26"
             ],
             [
              1,
              "#f0f921"
             ]
            ],
            "type": "histogram2dcontour"
           }
          ],
          "mesh3d": [
           {
            "colorbar": {
             "outlinewidth": 0,
             "ticks": ""
            },
            "type": "mesh3d"
           }
          ],
          "parcoords": [
           {
            "line": {
             "colorbar": {
              "outlinewidth": 0,
              "ticks": ""
             }
            },
            "type": "parcoords"
           }
          ],
          "pie": [
           {
            "automargin": true,
            "type": "pie"
           }
          ],
          "scatter": [
           {
            "marker": {
             "colorbar": {
              "outlinewidth": 0,
              "ticks": ""
             }
            },
            "type": "scatter"
           }
          ],
          "scatter3d": [
           {
            "line": {
             "colorbar": {
              "outlinewidth": 0,
              "ticks": ""
             }
            },
            "marker": {
             "colorbar": {
              "outlinewidth": 0,
              "ticks": ""
             }
            },
            "type": "scatter3d"
           }
          ],
          "scattercarpet": [
           {
            "marker": {
             "colorbar": {
              "outlinewidth": 0,
              "ticks": ""
             }
            },
            "type": "scattercarpet"
           }
          ],
          "scattergeo": [
           {
            "marker": {
             "colorbar": {
              "outlinewidth": 0,
              "ticks": ""
             }
            },
            "type": "scattergeo"
           }
          ],
          "scattergl": [
           {
            "marker": {
             "colorbar": {
              "outlinewidth": 0,
              "ticks": ""
             }
            },
            "type": "scattergl"
           }
          ],
          "scattermapbox": [
           {
            "marker": {
             "colorbar": {
              "outlinewidth": 0,
              "ticks": ""
             }
            },
            "type": "scattermapbox"
           }
          ],
          "scatterpolar": [
           {
            "marker": {
             "colorbar": {
              "outlinewidth": 0,
              "ticks": ""
             }
            },
            "type": "scatterpolar"
           }
          ],
          "scatterpolargl": [
           {
            "marker": {
             "colorbar": {
              "outlinewidth": 0,
              "ticks": ""
             }
            },
            "type": "scatterpolargl"
           }
          ],
          "scatterternary": [
           {
            "marker": {
             "colorbar": {
              "outlinewidth": 0,
              "ticks": ""
             }
            },
            "type": "scatterternary"
           }
          ],
          "surface": [
           {
            "colorbar": {
             "outlinewidth": 0,
             "ticks": ""
            },
            "colorscale": [
             [
              0,
              "#0d0887"
             ],
             [
              0.1111111111111111,
              "#46039f"
             ],
             [
              0.2222222222222222,
              "#7201a8"
             ],
             [
              0.3333333333333333,
              "#9c179e"
             ],
             [
              0.4444444444444444,
              "#bd3786"
             ],
             [
              0.5555555555555556,
              "#d8576b"
             ],
             [
              0.6666666666666666,
              "#ed7953"
             ],
             [
              0.7777777777777778,
              "#fb9f3a"
             ],
             [
              0.8888888888888888,
              "#fdca26"
             ],
             [
              1,
              "#f0f921"
             ]
            ],
            "type": "surface"
           }
          ],
          "table": [
           {
            "cells": {
             "fill": {
              "color": "#EBF0F8"
             },
             "line": {
              "color": "white"
             }
            },
            "header": {
             "fill": {
              "color": "#C8D4E3"
             },
             "line": {
              "color": "white"
             }
            },
            "type": "table"
           }
          ]
         },
         "layout": {
          "annotationdefaults": {
           "arrowcolor": "#2a3f5f",
           "arrowhead": 0,
           "arrowwidth": 1
          },
          "coloraxis": {
           "colorbar": {
            "outlinewidth": 0,
            "ticks": ""
           }
          },
          "colorscale": {
           "diverging": [
            [
             0,
             "#8e0152"
            ],
            [
             0.1,
             "#c51b7d"
            ],
            [
             0.2,
             "#de77ae"
            ],
            [
             0.3,
             "#f1b6da"
            ],
            [
             0.4,
             "#fde0ef"
            ],
            [
             0.5,
             "#f7f7f7"
            ],
            [
             0.6,
             "#e6f5d0"
            ],
            [
             0.7,
             "#b8e186"
            ],
            [
             0.8,
             "#7fbc41"
            ],
            [
             0.9,
             "#4d9221"
            ],
            [
             1,
             "#276419"
            ]
           ],
           "sequential": [
            [
             0,
             "#0d0887"
            ],
            [
             0.1111111111111111,
             "#46039f"
            ],
            [
             0.2222222222222222,
             "#7201a8"
            ],
            [
             0.3333333333333333,
             "#9c179e"
            ],
            [
             0.4444444444444444,
             "#bd3786"
            ],
            [
             0.5555555555555556,
             "#d8576b"
            ],
            [
             0.6666666666666666,
             "#ed7953"
            ],
            [
             0.7777777777777778,
             "#fb9f3a"
            ],
            [
             0.8888888888888888,
             "#fdca26"
            ],
            [
             1,
             "#f0f921"
            ]
           ],
           "sequentialminus": [
            [
             0,
             "#0d0887"
            ],
            [
             0.1111111111111111,
             "#46039f"
            ],
            [
             0.2222222222222222,
             "#7201a8"
            ],
            [
             0.3333333333333333,
             "#9c179e"
            ],
            [
             0.4444444444444444,
             "#bd3786"
            ],
            [
             0.5555555555555556,
             "#d8576b"
            ],
            [
             0.6666666666666666,
             "#ed7953"
            ],
            [
             0.7777777777777778,
             "#fb9f3a"
            ],
            [
             0.8888888888888888,
             "#fdca26"
            ],
            [
             1,
             "#f0f921"
            ]
           ]
          },
          "colorway": [
           "#636efa",
           "#EF553B",
           "#00cc96",
           "#ab63fa",
           "#FFA15A",
           "#19d3f3",
           "#FF6692",
           "#B6E880",
           "#FF97FF",
           "#FECB52"
          ],
          "font": {
           "color": "#2a3f5f"
          },
          "geo": {
           "bgcolor": "white",
           "lakecolor": "white",
           "landcolor": "#E5ECF6",
           "showlakes": true,
           "showland": true,
           "subunitcolor": "white"
          },
          "hoverlabel": {
           "align": "left"
          },
          "hovermode": "closest",
          "mapbox": {
           "style": "light"
          },
          "paper_bgcolor": "white",
          "plot_bgcolor": "#E5ECF6",
          "polar": {
           "angularaxis": {
            "gridcolor": "white",
            "linecolor": "white",
            "ticks": ""
           },
           "bgcolor": "#E5ECF6",
           "radialaxis": {
            "gridcolor": "white",
            "linecolor": "white",
            "ticks": ""
           }
          },
          "scene": {
           "xaxis": {
            "backgroundcolor": "#E5ECF6",
            "gridcolor": "white",
            "gridwidth": 2,
            "linecolor": "white",
            "showbackground": true,
            "ticks": "",
            "zerolinecolor": "white"
           },
           "yaxis": {
            "backgroundcolor": "#E5ECF6",
            "gridcolor": "white",
            "gridwidth": 2,
            "linecolor": "white",
            "showbackground": true,
            "ticks": "",
            "zerolinecolor": "white"
           },
           "zaxis": {
            "backgroundcolor": "#E5ECF6",
            "gridcolor": "white",
            "gridwidth": 2,
            "linecolor": "white",
            "showbackground": true,
            "ticks": "",
            "zerolinecolor": "white"
           }
          },
          "shapedefaults": {
           "line": {
            "color": "#2a3f5f"
           }
          },
          "ternary": {
           "aaxis": {
            "gridcolor": "white",
            "linecolor": "white",
            "ticks": ""
           },
           "baxis": {
            "gridcolor": "white",
            "linecolor": "white",
            "ticks": ""
           },
           "bgcolor": "#E5ECF6",
           "caxis": {
            "gridcolor": "white",
            "linecolor": "white",
            "ticks": ""
           }
          },
          "title": {
           "x": 0.05
          },
          "xaxis": {
           "automargin": true,
           "gridcolor": "white",
           "linecolor": "white",
           "ticks": "",
           "title": {
            "standoff": 15
           },
           "zerolinecolor": "white",
           "zerolinewidth": 2
          },
          "yaxis": {
           "automargin": true,
           "gridcolor": "white",
           "linecolor": "white",
           "ticks": "",
           "title": {
            "standoff": 15
           },
           "zerolinecolor": "white",
           "zerolinewidth": 2
          }
         }
        },
        "title": {
         "font": {
          "color": "rgb(0, 0, 0)",
          "family": "\"Open sans\", verdana, arial, sans-serif",
          "size": 14
         },
         "text": "<b></b>"
        },
        "xaxis": {
         "anchor": "y",
         "autorange": true,
         "range": [
          -5.95802798134577,
          104.95802798134577
         ],
         "showgrid": true,
         "showline": true,
         "showticklabels": true,
         "side": "bottom",
         "tickfont": {
          "color": "rgb(0, 0, 0)",
          "family": "\"Open sans\", verdana, arial, sans-serif",
          "size": 12
         },
         "title": {
          "font": {
           "color": "rgb(0, 0, 0)",
           "family": "\"Open sans\", verdana, arial, sans-serif",
           "size": 14
          },
          "text": "Test case"
         },
         "type": "linear"
        },
        "yaxis": {
         "anchor": "x",
         "autorange": true,
         "range": [
          5.436395388499946,
          6.8670327845652395
         ],
         "showgrid": true,
         "showline": true,
         "showticklabels": true,
         "side": "left",
         "tickfont": {
          "color": "rgb(0, 0, 0)",
          "family": "\"Open sans\", verdana, arial, sans-serif",
          "size": 12
         },
         "title": {
          "font": {
           "color": "rgb(0, 0, 0)",
           "family": "\"Open sans\", verdana, arial, sans-serif",
           "size": 14
          },
          "text": "MLP prediction"
         },
         "type": "linear"
        }
       }
      },
      "image/png": "[encoded data removed]",
      "text/html": [
       "<div>\n",
       "        \n",
       "        \n",
       "            <div id=\"2fe11305-7296-47da-98be-1fa61d73f967\" class=\"plotly-graph-div\" style=\"height:525px; width:100%;\"></div>\n",
       "            <script type=\"text/javascript\">\n",
       "                require([\"plotly\"], function(Plotly) {\n",
       "                    window.PLOTLYENV=window.PLOTLYENV || {};\n",
       "                    \n",
       "                if (document.getElementById(\"2fe11305-7296-47da-98be-1fa61d73f967\")) {\n",
       "                    Plotly.newPlot(\n",
       "                        '2fe11305-7296-47da-98be-1fa61d73f967',\n",
       "                        [{\"fill\": \"none\", \"line\": {\"color\": \"rgb(0.8,0.0,0.0)\", \"dash\": \"solid\", \"shape\": \"linear\", \"smoothing\": 1, \"width\": 2}, \"mode\": \"lines\", \"name\": \"orange3\", \"opacity\": 1.0, \"type\": \"scatter\", \"uid\": \"uid_orange3\", \"x\": [0, 1, 2, 3, 4, 5, 6, 7, 8, 9, 10, 11, 12, 13, 14, 15, 16, 17, 18, 19, 20, 21, 22, 23, 24, 25, 26, 27, 28, 29, 30, 31, 32, 33, 34, 35, 36, 37, 38, 39, 40, 41, 42, 43, 44, 45, 46, 47, 48, 49, 50, 51, 52, 53, 54, 55, 56, 57, 58, 59, 60, 61, 62, 63, 64, 65, 66, 67, 68, 69, 70, 71, 72, 73, 74, 75, 76, 77, 78, 79, 80, 81, 82, 83, 84, 85, 86, 87, 88, 89, 90, 91, 92, 93, 94, 95, 96, 97, 98, 99], \"y\": [5.882466374686706, 6.349793257130449, 5.8279077871628, 6.2045431447996755, 6.100096043340712, 6.251245786619726, 6.227004290589196, 6.31672744342588, 6.4689165971401374, 6.194292039166478, 6.559072677156432, 5.527796195528241, 5.936798319655914, 6.624449592247735, 5.781638433833163, 6.466921616812745, 6.066307328894843, 6.151192626238276, 6.115323058062377, 6.203163957155165, 6.177406254016394, 6.3433438672564675, 5.7482606312205276, 5.785461911515459, 6.602961218228528, 6.283457577552682, 6.2406202023908675, 6.234108187527337, 6.39841032452406, 6.590377119677314, 6.0218340689070855, 6.340539829100511, 5.773798533408102, 6.273005391507171, 6.067640936686, 6.550901102944551, 6.596118662599925, 5.928797954423238, 6.113782655068094, 5.826006294155612, 5.7096012945971575, 5.978907627002704, 5.724807885428206, 6.225657061829463, 6.113889342731633, 6.071203656336836, 6.434054973896941, 6.043079084457432, 6.107099951855153, 6.181489213769443, 5.786335755094787, 6.611189674311409, 6.5433732135924005, 6.015583306532066, 5.776849731384188, 6.3192344142366865, 6.182101964672031, 6.563349465394977, 6.180917686329786, 6.393628308494484, 5.765347701415462, 5.869291420510259, 5.928664348818097, 6.302128302630472, 6.179510977529132, 5.9882193426596535, 6.77563047077657, 6.064648988747627, 6.633541028941297, 6.316655206011304, 6.030915122018123, 6.090269877032529, 5.991532743692338, 6.098690453979667, 6.400865721041827, 6.348831776656568, 6.057657311273587, 6.302349500687906, 6.208935825568875, 6.223893502012013, 6.292854346155138, 6.6407107347503525, 6.073514855950833, 6.448332276431057, 5.872728223786274, 6.275883381409456, 6.1963978883474145, 6.162567943037906, 6.422691406877903, 6.490010212635055, 5.6993987456203685, 6.1430677474402495, 6.002460019554083, 6.2785804459301255, 6.291593404835351, 5.570343392869499, 5.864836691073379, 5.983384527816132, 6.5421832832471125, 6.389974848505164], \"yaxis\": \"y\"}, {\"fill\": \"none\", \"line\": {\"color\": \"rgb(0.0,0.8,0.08617792884521226)\", \"dash\": \"dash\", \"shape\": \"linear\", \"smoothing\": 1, \"width\": 2}, \"mode\": \"lines\", \"name\": \"sklearn\", \"opacity\": 1.0, \"type\": \"scatter\", \"uid\": \"uid_sklearn\", \"x\": [0, 1, 2, 3, 4, 5, 6, 7, 8, 9, 10, 11, 12, 13, 14, 15, 16, 17, 18, 19, 20, 21, 22, 23, 24, 25, 26, 27, 28, 29, 30, 31, 32, 33, 34, 35, 36, 37, 38, 39, 40, 41, 42, 43, 44, 45, 46, 47, 48, 49, 50, 51, 52, 53, 54, 55, 56, 57, 58, 59, 60, 61, 62, 63, 64, 65, 66, 67, 68, 69, 70, 71, 72, 73, 74, 75, 76, 77, 78, 79, 80, 81, 82, 83, 84, 85, 86, 87, 88, 89, 90, 91, 92, 93, 94, 95, 96, 97, 98, 99], \"y\": [5.882466374686706, 6.349793257130449, 5.8279077871628, 6.2045431447996755, 6.100096043340712, 6.251245786619726, 6.227004290589196, 6.31672744342588, 6.4689165971401374, 6.194292039166478, 6.559072677156432, 5.527796195528241, 5.936798319655914, 6.624449592247735, 5.781638433833163, 6.466921616812745, 6.066307328894843, 6.151192626238276, 6.115323058062377, 6.203163957155165, 6.177406254016394, 6.3433438672564675, 5.7482606312205276, 5.785461911515459, 6.602961218228528, 6.283457577552682, 6.2406202023908675, 6.234108187527337, 6.39841032452406, 6.590377119677314, 6.0218340689070855, 6.340539829100511, 5.773798533408102, 6.273005391507171, 6.067640936686, 6.550901102944551, 6.596118662599925, 5.928797954423238, 6.113782655068094, 5.826006294155612, 5.7096012945971575, 5.978907627002704, 5.724807885428206, 6.225657061829463, 6.113889342731633, 6.071203656336836, 6.434054973896941, 6.043079084457432, 6.107099951855153, 6.181489213769443, 5.786335755094787, 6.611189674311409, 6.5433732135924005, 6.015583306532066, 5.776849731384188, 6.3192344142366865, 6.182101964672031, 6.563349465394977, 6.180917686329786, 6.393628308494484, 5.765347701415462, 5.869291420510259, 5.928664348818097, 6.302128302630472, 6.179510977529132, 5.9882193426596535, 6.77563047077657, 6.064648988747627, 6.633541028941297, 6.316655206011304, 6.030915122018123, 6.090269877032529, 5.991532743692338, 6.098690453979667, 6.400865721041827, 6.348831776656568, 6.057657311273587, 6.302349500687906, 6.208935825568875, 6.223893502012013, 6.292854346155138, 6.6407107347503525, 6.073514855950833, 6.448332276431057, 5.872728223786274, 6.275883381409456, 6.1963978883474145, 6.162567943037906, 6.422691406877903, 6.490010212635055, 5.6993987456203685, 6.1430677474402495, 6.002460019554083, 6.2785804459301255, 6.291593404835351, 5.570343392869499, 5.864836691073379, 5.983384527816132, 6.5421832832471125, 6.389974848505164], \"yaxis\": \"y\"}, {\"fill\": \"none\", \"line\": {\"color\": \"rgb(0.17235158852805887,0.0,0.8)\", \"dash\": \"solid\", \"shape\": \"linear\", \"smoothing\": 1, \"width\": 2}, \"mode\": \"markers\", \"name\": \"PLC\", \"opacity\": 1.0, \"type\": \"scatter\", \"uid\": \"uid_PLC\", \"x\": [0, 1, 2, 3, 4, 5, 6, 7, 8, 9, 10, 11, 12, 13, 14, 15, 16, 17, 18, 19, 20, 21, 22, 23, 24, 25, 26, 27, 28, 29, 30, 31, 32, 33, 34, 35, 36, 37, 38, 39, 40, 41, 42, 43, 44, 45, 46, 47, 48, 49, 50, 51, 52, 53, 54, 55, 56, 57, 58, 59, 60, 61, 62, 63, 64, 65, 66, 67, 68, 69, 70, 71, 72, 73, 74, 75, 76, 77, 78, 79, 80, 81, 82, 83, 84, 85, 86, 87, 88, 89, 90, 91, 92, 93, 94, 95, 96, 97, 98, 99], \"y\": [5.882466793060303, 6.349793434143066, 5.827907562255859, 6.204543113708496, 6.100095748901367, 6.251246452331543, 6.22700309753418, 6.316725254058838, 6.468915939331055, 6.1942925453186035, 6.559073448181152, 5.527797222137451, 5.936798572540283, 6.624450206756592, 5.781637668609619, 6.466921806335449, 6.06630802154541, 6.1511921882629395, 6.115323066711426, 6.2031636238098145, 6.177407741546631, 6.343344211578369, 5.748259544372559, 5.78546142578125, 6.602960586547852, 6.283457279205322, 6.2406206130981445, 6.234107971191406, 6.398410797119141, 6.5903778076171875, 6.021833896636963, 6.340539455413818, 5.773797512054443, 6.273005485534668, 6.067641735076904, 6.550899028778076, 6.5961174964904785, 5.928798198699951, 6.1137824058532715, 5.826005458831787, 5.709601879119873, 5.978906631469727, 5.724808692932129, 6.225656509399414, 6.113889217376709, 6.071202754974365, 6.434053897857666, 6.043079853057861, 6.107098579406738, 6.181488037109375, 5.786334991455078, 6.611188888549805, 6.543374061584473, 6.0155839920043945, 5.776849269866943, 6.3192338943481445, 6.182101726531982, 6.563350677490234, 6.180918216705322, 6.393628120422363, 5.765347957611084, 5.869293212890625, 5.928665637969971, 6.302127361297607, 6.179511547088623, 5.988218784332275, 6.775630950927734, 6.064650058746338, 6.633540630340576, 6.316654682159424, 6.0309157371521, 6.090270042419434, 5.991531848907471, 6.098690032958984, 6.400865077972412, 6.348833084106445, 6.057656764984131, 6.30234956741333, 6.208935737609863, 6.223894119262695, 6.292855739593506, 6.640710353851318, 6.073514938354492, 6.448333740234375, 5.872729301452637, 6.275882720947266, 6.19639778137207, 6.162567615509033, 6.4226908683776855, 6.490010738372803, 5.699399471282959, 6.143067836761475, 6.00246000289917, 6.278581619262695, 6.291593551635742, 5.570342063903809, 5.864835739135742, 5.983382701873779, 6.5421833992004395, 6.389974594116211], \"yaxis\": \"y\"}],\n",
       "                        {\"hidesources\": false, \"hovermode\": \"x\", \"legend\": {\"bgcolor\": \"rgb(255, 255, 255)\", \"bordercolor\": \"rgb(80, 80, 80)\", \"borderwidth\": 1, \"font\": {\"color\": \"rgb(0, 0, 0)\", \"family\": \"\\\"Open sans\\\", verdana, arial, sans-serif\", \"size\": 12}, \"orientation\": \"v\", \"traceorder\": \"normal\", \"xanchor\": \"auto\", \"yanchor\": \"auto\"}, \"showlegend\": true, \"template\": {\"data\": {\"bar\": [{\"error_x\": {\"color\": \"#2a3f5f\"}, \"error_y\": {\"color\": \"#2a3f5f\"}, \"marker\": {\"line\": {\"color\": \"#E5ECF6\", \"width\": 0.5}}, \"type\": \"bar\"}], \"barpolar\": [{\"marker\": {\"line\": {\"color\": \"#E5ECF6\", \"width\": 0.5}}, \"type\": \"barpolar\"}], \"carpet\": [{\"aaxis\": {\"endlinecolor\": \"#2a3f5f\", \"gridcolor\": \"white\", \"linecolor\": \"white\", \"minorgridcolor\": \"white\", \"startlinecolor\": \"#2a3f5f\"}, \"baxis\": {\"endlinecolor\": \"#2a3f5f\", \"gridcolor\": \"white\", \"linecolor\": \"white\", \"minorgridcolor\": \"white\", \"startlinecolor\": \"#2a3f5f\"}, \"type\": \"carpet\"}], \"choropleth\": [{\"colorbar\": {\"outlinewidth\": 0, \"ticks\": \"\"}, \"type\": \"choropleth\"}], \"contour\": [{\"colorbar\": {\"outlinewidth\": 0, \"ticks\": \"\"}, \"colorscale\": [[0.0, \"#0d0887\"], [0.1111111111111111, \"#46039f\"], [0.2222222222222222, \"#7201a8\"], [0.3333333333333333, \"#9c179e\"], [0.4444444444444444, \"#bd3786\"], [0.5555555555555556, \"#d8576b\"], [0.6666666666666666, \"#ed7953\"], [0.7777777777777778, \"#fb9f3a\"], [0.8888888888888888, \"#fdca26\"], [1.0, \"#f0f921\"]], \"type\": \"contour\"}], \"contourcarpet\": [{\"colorbar\": {\"outlinewidth\": 0, \"ticks\": \"\"}, \"type\": \"contourcarpet\"}], \"heatmap\": [{\"colorbar\": {\"outlinewidth\": 0, \"ticks\": \"\"}, \"colorscale\": [[0.0, \"#0d0887\"], [0.1111111111111111, \"#46039f\"], [0.2222222222222222, \"#7201a8\"], [0.3333333333333333, \"#9c179e\"], [0.4444444444444444, \"#bd3786\"], [0.5555555555555556, \"#d8576b\"], [0.6666666666666666, \"#ed7953\"], [0.7777777777777778, \"#fb9f3a\"], [0.8888888888888888, \"#fdca26\"], [1.0, \"#f0f921\"]], \"type\": \"heatmap\"}], \"heatmapgl\": [{\"colorbar\": {\"outlinewidth\": 0, \"ticks\": \"\"}, \"colorscale\": [[0.0, \"#0d0887\"], [0.1111111111111111, \"#46039f\"], [0.2222222222222222, \"#7201a8\"], [0.3333333333333333, \"#9c179e\"], [0.4444444444444444, \"#bd3786\"], [0.5555555555555556, \"#d8576b\"], [0.6666666666666666, \"#ed7953\"], [0.7777777777777778, \"#fb9f3a\"], [0.8888888888888888, \"#fdca26\"], [1.0, \"#f0f921\"]], \"type\": \"heatmapgl\"}], \"histogram\": [{\"marker\": {\"colorbar\": {\"outlinewidth\": 0, \"ticks\": \"\"}}, \"type\": \"histogram\"}], \"histogram2d\": [{\"colorbar\": {\"outlinewidth\": 0, \"ticks\": \"\"}, \"colorscale\": [[0.0, \"#0d0887\"], [0.1111111111111111, \"#46039f\"], [0.2222222222222222, \"#7201a8\"], [0.3333333333333333, \"#9c179e\"], [0.4444444444444444, \"#bd3786\"], [0.5555555555555556, \"#d8576b\"], [0.6666666666666666, \"#ed7953\"], [0.7777777777777778, \"#fb9f3a\"], [0.8888888888888888, \"#fdca26\"], [1.0, \"#f0f921\"]], \"type\": \"histogram2d\"}], \"histogram2dcontour\": [{\"colorbar\": {\"outlinewidth\": 0, \"ticks\": \"\"}, \"colorscale\": [[0.0, \"#0d0887\"], [0.1111111111111111, \"#46039f\"], [0.2222222222222222, \"#7201a8\"], [0.3333333333333333, \"#9c179e\"], [0.4444444444444444, \"#bd3786\"], [0.5555555555555556, \"#d8576b\"], [0.6666666666666666, \"#ed7953\"], [0.7777777777777778, \"#fb9f3a\"], [0.8888888888888888, \"#fdca26\"], [1.0, \"#f0f921\"]], \"type\": \"histogram2dcontour\"}], \"mesh3d\": [{\"colorbar\": {\"outlinewidth\": 0, \"ticks\": \"\"}, \"type\": \"mesh3d\"}], \"parcoords\": [{\"line\": {\"colorbar\": {\"outlinewidth\": 0, \"ticks\": \"\"}}, \"type\": \"parcoords\"}], \"pie\": [{\"automargin\": true, \"type\": \"pie\"}], \"scatter\": [{\"marker\": {\"colorbar\": {\"outlinewidth\": 0, \"ticks\": \"\"}}, \"type\": \"scatter\"}], \"scatter3d\": [{\"line\": {\"colorbar\": {\"outlinewidth\": 0, \"ticks\": \"\"}}, \"marker\": {\"colorbar\": {\"outlinewidth\": 0, \"ticks\": \"\"}}, \"type\": \"scatter3d\"}], \"scattercarpet\": [{\"marker\": {\"colorbar\": {\"outlinewidth\": 0, \"ticks\": \"\"}}, \"type\": \"scattercarpet\"}], \"scattergeo\": [{\"marker\": {\"colorbar\": {\"outlinewidth\": 0, \"ticks\": \"\"}}, \"type\": \"scattergeo\"}], \"scattergl\": [{\"marker\": {\"colorbar\": {\"outlinewidth\": 0, \"ticks\": \"\"}}, \"type\": \"scattergl\"}], \"scattermapbox\": [{\"marker\": {\"colorbar\": {\"outlinewidth\": 0, \"ticks\": \"\"}}, \"type\": \"scattermapbox\"}], \"scatterpolar\": [{\"marker\": {\"colorbar\": {\"outlinewidth\": 0, \"ticks\": \"\"}}, \"type\": \"scatterpolar\"}], \"scatterpolargl\": [{\"marker\": {\"colorbar\": {\"outlinewidth\": 0, \"ticks\": \"\"}}, \"type\": \"scatterpolargl\"}], \"scatterternary\": [{\"marker\": {\"colorbar\": {\"outlinewidth\": 0, \"ticks\": \"\"}}, \"type\": \"scatterternary\"}], \"surface\": [{\"colorbar\": {\"outlinewidth\": 0, \"ticks\": \"\"}, \"colorscale\": [[0.0, \"#0d0887\"], [0.1111111111111111, \"#46039f\"], [0.2222222222222222, \"#7201a8\"], [0.3333333333333333, \"#9c179e\"], [0.4444444444444444, \"#bd3786\"], [0.5555555555555556, \"#d8576b\"], [0.6666666666666666, \"#ed7953\"], [0.7777777777777778, \"#fb9f3a\"], [0.8888888888888888, \"#fdca26\"], [1.0, \"#f0f921\"]], \"type\": \"surface\"}], \"table\": [{\"cells\": {\"fill\": {\"color\": \"#EBF0F8\"}, \"line\": {\"color\": \"white\"}}, \"header\": {\"fill\": {\"color\": \"#C8D4E3\"}, \"line\": {\"color\": \"white\"}}, \"type\": \"table\"}]}, \"layout\": {\"annotationdefaults\": {\"arrowcolor\": \"#2a3f5f\", \"arrowhead\": 0, \"arrowwidth\": 1}, \"coloraxis\": {\"colorbar\": {\"outlinewidth\": 0, \"ticks\": \"\"}}, \"colorscale\": {\"diverging\": [[0, \"#8e0152\"], [0.1, \"#c51b7d\"], [0.2, \"#de77ae\"], [0.3, \"#f1b6da\"], [0.4, \"#fde0ef\"], [0.5, \"#f7f7f7\"], [0.6, \"#e6f5d0\"], [0.7, \"#b8e186\"], [0.8, \"#7fbc41\"], [0.9, \"#4d9221\"], [1, \"#276419\"]], \"sequential\": [[0.0, \"#0d0887\"], [0.1111111111111111, \"#46039f\"], [0.2222222222222222, \"#7201a8\"], [0.3333333333333333, \"#9c179e\"], [0.4444444444444444, \"#bd3786\"], [0.5555555555555556, \"#d8576b\"], [0.6666666666666666, \"#ed7953\"], [0.7777777777777778, \"#fb9f3a\"], [0.8888888888888888, \"#fdca26\"], [1.0, \"#f0f921\"]], \"sequentialminus\": [[0.0, \"#0d0887\"], [0.1111111111111111, \"#46039f\"], [0.2222222222222222, \"#7201a8\"], [0.3333333333333333, \"#9c179e\"], [0.4444444444444444, \"#bd3786\"], [0.5555555555555556, \"#d8576b\"], [0.6666666666666666, \"#ed7953\"], [0.7777777777777778, \"#fb9f3a\"], [0.8888888888888888, \"#fdca26\"], [1.0, \"#f0f921\"]]}, \"colorway\": [\"#636efa\", \"#EF553B\", \"#00cc96\", \"#ab63fa\", \"#FFA15A\", \"#19d3f3\", \"#FF6692\", \"#B6E880\", \"#FF97FF\", \"#FECB52\"], \"font\": {\"color\": \"#2a3f5f\"}, \"geo\": {\"bgcolor\": \"white\", \"lakecolor\": \"white\", \"landcolor\": \"#E5ECF6\", \"showlakes\": true, \"showland\": true, \"subunitcolor\": \"white\"}, \"hoverlabel\": {\"align\": \"left\"}, \"hovermode\": \"closest\", \"mapbox\": {\"style\": \"light\"}, \"paper_bgcolor\": \"white\", \"plot_bgcolor\": \"#E5ECF6\", \"polar\": {\"angularaxis\": {\"gridcolor\": \"white\", \"linecolor\": \"white\", \"ticks\": \"\"}, \"bgcolor\": \"#E5ECF6\", \"radialaxis\": {\"gridcolor\": \"white\", \"linecolor\": \"white\", \"ticks\": \"\"}}, \"scene\": {\"xaxis\": {\"backgroundcolor\": \"#E5ECF6\", \"gridcolor\": \"white\", \"gridwidth\": 2, \"linecolor\": \"white\", \"showbackground\": true, \"ticks\": \"\", \"zerolinecolor\": \"white\"}, \"yaxis\": {\"backgroundcolor\": \"#E5ECF6\", \"gridcolor\": \"white\", \"gridwidth\": 2, \"linecolor\": \"white\", \"showbackground\": true, \"ticks\": \"\", \"zerolinecolor\": \"white\"}, \"zaxis\": {\"backgroundcolor\": \"#E5ECF6\", \"gridcolor\": \"white\", \"gridwidth\": 2, \"linecolor\": \"white\", \"showbackground\": true, \"ticks\": \"\", \"zerolinecolor\": \"white\"}}, \"shapedefaults\": {\"line\": {\"color\": \"#2a3f5f\"}}, \"ternary\": {\"aaxis\": {\"gridcolor\": \"white\", \"linecolor\": \"white\", \"ticks\": \"\"}, \"baxis\": {\"gridcolor\": \"white\", \"linecolor\": \"white\", \"ticks\": \"\"}, \"bgcolor\": \"#E5ECF6\", \"caxis\": {\"gridcolor\": \"white\", \"linecolor\": \"white\", \"ticks\": \"\"}}, \"title\": {\"x\": 0.05}, \"xaxis\": {\"automargin\": true, \"gridcolor\": \"white\", \"linecolor\": \"white\", \"ticks\": \"\", \"title\": {\"standoff\": 15}, \"zerolinecolor\": \"white\", \"zerolinewidth\": 2}, \"yaxis\": {\"automargin\": true, \"gridcolor\": \"white\", \"linecolor\": \"white\", \"ticks\": \"\", \"title\": {\"standoff\": 15}, \"zerolinecolor\": \"white\", \"zerolinewidth\": 2}}}, \"title\": {\"font\": {\"color\": \"rgb(0, 0, 0)\", \"family\": \"\\\"Open sans\\\", verdana, arial, sans-serif\", \"size\": 14}, \"text\": \"<b></b>\"}, \"xaxis\": {\"anchor\": \"y\", \"autorange\": true, \"showgrid\": true, \"showline\": true, \"showticklabels\": true, \"side\": \"bottom\", \"tickfont\": {\"color\": \"rgb(0, 0, 0)\", \"family\": \"\\\"Open sans\\\", verdana, arial, sans-serif\", \"size\": 12}, \"title\": {\"font\": {\"color\": \"rgb(0, 0, 0)\", \"family\": \"\\\"Open sans\\\", verdana, arial, sans-serif\", \"size\": 14}, \"text\": \"Test case\"}}, \"yaxis\": {\"anchor\": \"x\", \"autorange\": true, \"overlaying\": \"free\", \"showgrid\": true, \"showline\": true, \"showticklabels\": true, \"side\": \"left\", \"tickfont\": {\"color\": \"rgb(0, 0, 0)\", \"family\": \"\\\"Open sans\\\", verdana, arial, sans-serif\", \"size\": 12}, \"title\": {\"font\": {\"color\": \"rgb(0, 0, 0)\", \"family\": \"\\\"Open sans\\\", verdana, arial, sans-serif\", \"size\": 14}, \"text\": \"MLP prediction\"}}},\n",
       "                        {\"responsive\": true}\n",
       "                    ).then(function(){\n",
       "                            \n",
       "var gd = document.getElementById('2fe11305-7296-47da-98be-1fa61d73f967');\n",
       "var x = new MutationObserver(function (mutations, observer) {{\n",
       "        var display = window.getComputedStyle(gd).display;\n",
       "        if (!display || display === 'none') {{\n",
       "            console.log([gd, 'removed!']);\n",
       "            Plotly.purge(gd);\n",
       "            observer.disconnect();\n",
       "        }}\n",
       "}});\n",
       "\n",
       "// Listen for the removal of the full notebook cells\n",
       "var notebookContainer = gd.closest('#notebook-container');\n",
       "if (notebookContainer) {{\n",
       "    x.observe(notebookContainer, {childList: true});\n",
       "}}\n",
       "\n",
       "// Listen for the clearing of the current output cell\n",
       "var outputEl = gd.closest('.output');\n",
       "if (outputEl) {{\n",
       "    x.observe(outputEl, {childList: true});\n",
       "}}\n",
       "\n",
       "                        })\n",
       "                };\n",
       "                });\n",
       "            </script>\n",
       "        </div>"
      ]
     },
     "metadata": {},
     "output_type": "display_data"
    }
   ],
   "source": [
    "# start communication\n",
    "if __name__ == \"__main__\":\n",
    "    try:\n",
    "        client.connect()\n",
    "        objects = client.get_objects_node()\n",
    "        # work in DeviceSet Branch, since it has less side nodes\n",
    "        devSetNode = get_DeviceSetNode(client)\n",
    "        prgNode = find_PrgNode(devSetNode)\n",
    "        MLPnode = prgNode.get_children()[0]\n",
    "        # relevant MLP nodes\n",
    "        inNodes = get_MLPinputs(MLPnode)\n",
    "        outNode = get_MLPoutput(MLPnode)\n",
    "        # run test\n",
    "        graph = testMLP(inNodes, outNode, model, sklModel)\n",
    "        iplot(graph)\n",
    "            \n",
    "    finally:\n",
    "        client.disconnect()"
   ]
  },
  {
   "cell_type": "code",
   "execution_count": null,
   "metadata": {},
   "outputs": [],
   "source": []
  }
 ],
 "metadata": {
  "kernelspec": {
   "display_name": "Python 3",
   "language": "python",
   "name": "python3"
  },
  "language_info": {
   "codemirror_mode": {
    "name": "ipython",
    "version": 3
   },
   "file_extension": ".py",
   "mimetype": "text/x-python",
   "name": "python",
   "nbconvert_exporter": "python",
   "pygments_lexer": "ipython3",
   "version": "3.8.6"
  }
 },
 "nbformat": 4,
 "nbformat_minor": 4
}
